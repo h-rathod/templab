import numpy as np

array = np.array([1, 2, 3, 4, 5])
mean_np = np.mean(array)
std_np = np.std(array)
sum_np = np.sum(array)

print(f"Numpy - Mean: {mean_np}, Standard Deviation: {std_np}, Sum: {sum_np}")
